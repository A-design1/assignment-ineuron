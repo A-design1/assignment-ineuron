{
 "cells": [
  {
   "cell_type": "markdown",
   "metadata": {},
   "source": [
    "1.1 Write a Python Program(with class concepts) to find the area of the triangle using the below formula. \n",
    "area = (s*(s-a)*(s-b)*(s-c)) ** 0.5 .\n",
    "Function to take the length of the sides of triangle from user should be defined in the parent class and function to calculate the area should be defined in subclass."
   ]
  },
  {
   "cell_type": "code",
   "execution_count": 2,
   "metadata": {},
   "outputs": [
    {
     "name": "stdout",
     "output_type": "stream",
     "text": [
      "Enter the value of the first side:20\n",
      "Enter the value of the second side:20\n",
      "Enter the value of the third side:20\n",
      "173.20508075688772\n"
     ]
    }
   ],
   "source": [
    "import sys\n",
    "import math\n",
    "class triangle():\n",
    "    def __init__(self):\n",
    "        self.a = int(input(\"Enter the value of the first side:\"))\n",
    "        self.b = int(input(\"Enter the value of the second side:\"))\n",
    "        self.c = int(input(\"Enter the value of the third side:\"))\n",
    "       \n",
    "        \n",
    "class Area(triangle):\n",
    "    def __init__(self):\n",
    "        super().__init__()\n",
    "    \n",
    "    def area(self):\n",
    "        a = self.a\n",
    "        b = self.b\n",
    "        c = self.c\n",
    "        s=(a + b + c)/2\n",
    "        area=math.sqrt(s*(s-a)*(s-b)*(s-c))\n",
    "        return area\n",
    "\n",
    "a = Area()\n",
    "print(a.area())"
   ]
  },
  {
   "cell_type": "markdown",
   "metadata": {},
   "source": [
    "1.2 Write a function filter_long_words() that takes a list of words and an integer n and returns the list of words that are longer than n."
   ]
  },
  {
   "cell_type": "code",
   "execution_count": 5,
   "metadata": {},
   "outputs": [
    {
     "name": "stdout",
     "output_type": "stream",
     "text": [
      "['Martha', 'Elizabeth']\n"
     ]
    }
   ],
   "source": [
    "list1 = [ 'Jonas','Martha','Adam','Elizabeth']\n",
    "n = 5\n",
    "\n",
    "def func1(list1,n):\n",
    "    list2 =[]\n",
    "    for i in list1:\n",
    "        if len(i) > n:\n",
    "            list2.append(i)\n",
    "    return list2\n",
    "\n",
    "a = func1(list1,n)\n",
    "print(a)"
   ]
  },
  {
   "cell_type": "markdown",
   "metadata": {},
   "source": [
    "2.1 Write a Python program using function concept that maps list of words into a list of integers representing the lengths of the corresponding words. \n",
    "Hint: If a list [ ab,cde,erty] is passed on to the python function output should come as [2,3,4] \n",
    "Here 2,3 and 4 are the lengths of the words in the list. \n"
   ]
  },
  {
   "cell_type": "code",
   "execution_count": 9,
   "metadata": {},
   "outputs": [
    {
     "name": "stdout",
     "output_type": "stream",
     "text": [
      "[5, 6, 4, 9]\n"
     ]
    }
   ],
   "source": [
    "list3 = [ 'Jonas','Martha','Adam','Elizabeth']\n",
    "def func2(list3):\n",
    "    list4 =[]\n",
    "    for i in list3:\n",
    "        list4.append(len(i))\n",
    "    return list4\n",
    "\n",
    "b = func2(list3)\n",
    "print(b)"
   ]
  },
  {
   "cell_type": "markdown",
   "metadata": {},
   "source": [
    "2.2 Write a Python function which takes a character (i.e. a string of length 1) and returns True if it is a vowel, False otherwise. \n"
   ]
  },
  {
   "cell_type": "code",
   "execution_count": 14,
   "metadata": {},
   "outputs": [
    {
     "name": "stdout",
     "output_type": "stream",
     "text": [
      "Enter a character : e\n"
     ]
    },
    {
     "data": {
      "text/plain": [
       "True"
      ]
     },
     "execution_count": 14,
     "metadata": {},
     "output_type": "execute_result"
    }
   ],
   "source": [
    "def func(a):\n",
    "    if a == 'a' or a == 'b' or a == 'i' or a == 'o' or a == 'u' or a == 'e':\n",
    "        return True\n",
    "    else:\n",
    "        return False\n",
    "ch = input('Enter a character : ')   \n",
    "func('e')"
   ]
  },
  {
   "cell_type": "code",
   "execution_count": null,
   "metadata": {},
   "outputs": [],
   "source": []
  }
 ],
 "metadata": {
  "kernelspec": {
   "display_name": "Python 3",
   "language": "python",
   "name": "python3"
  },
  "language_info": {
   "codemirror_mode": {
    "name": "ipython",
    "version": 3
   },
   "file_extension": ".py",
   "mimetype": "text/x-python",
   "name": "python",
   "nbconvert_exporter": "python",
   "pygments_lexer": "ipython3",
   "version": "3.7.6"
  }
 },
 "nbformat": 4,
 "nbformat_minor": 4
}
